{
 "cells": [
  {
   "cell_type": "markdown",
   "id": "14f13564-361a-435f-8cb1-fbe93f9662e6",
   "metadata": {},
   "source": [
    "# Comparison of the K-Means and MiniBatchKMeans clustering algorithms\n",
    "We want to compare the performance of the MiniBatchKMeans and KMeans: the MiniBatchKMeans is faster, but gives slightly different results (see Mini Batch K-Means).\n",
    "\n",
    "We will cluster a set of data, first with KMeans and then with MiniBatchKMeans, and plot the results. We will also plot the points that are labelled differently between the two algorithms.\n",
    "\n",
    "### Generate the data\n",
    "We start by generating the blobs of data to be clustered."
   ]
  },
  {
   "cell_type": "code",
   "execution_count": null,
   "id": "0c38535c-5aca-4b0c-b4d3-831a76d1b48f",
   "metadata": {},
   "outputs": [],
   "source": []
  }
 ],
 "metadata": {
  "kernelspec": {
   "display_name": "Python 3 (ipykernel)",
   "language": "python",
   "name": "python3"
  },
  "language_info": {
   "codemirror_mode": {
    "name": "ipython",
    "version": 3
   },
   "file_extension": ".py",
   "mimetype": "text/x-python",
   "name": "python",
   "nbconvert_exporter": "python",
   "pygments_lexer": "ipython3",
   "version": "3.9.16"
  }
 },
 "nbformat": 4,
 "nbformat_minor": 5
}
